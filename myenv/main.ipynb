{
 "cells": [
  {
   "cell_type": "markdown",
   "id": "ccd0dcd2",
   "metadata": {},
   "source": [
    "Processing of the Fear Greed Index Dataset"
   ]
  },
  {
   "cell_type": "code",
   "execution_count": 4,
   "id": "7b40a0e4",
   "metadata": {},
   "outputs": [
    {
     "name": "stdout",
     "output_type": "stream",
     "text": [
      "timestamp                  int64\n",
      "value                      int64\n",
      "classification            object\n",
      "date              datetime64[ns]\n",
      "dtype: object\n",
      "    timestamp  value classification       date        Date\n",
      "0  1517463000     30           Fear 2018-02-01  2018-02-01\n",
      "1  1517549400     15   Extreme Fear 2018-02-02  2018-02-02\n",
      "2  1517635800     40           Fear 2018-02-03  2018-02-03\n",
      "3  1517722200     24   Extreme Fear 2018-02-04  2018-02-04\n",
      "4  1517808600     11   Extreme Fear 2018-02-05  2018-02-05\n"
     ]
    }
   ],
   "source": [
    "import pandas as pd\n",
    "\n",
    "# Load sentiment dataset\n",
    "sent = pd.read_csv(\"fear_greed_index.csv\", parse_dates=[\"date\"])\n",
    "print(sent.dtypes)  # Check if 'date' is datetime64[ns]\n",
    "sent['Date'] = pd.to_datetime(sent['date']).dt.date   # keep only date part\n",
    "\n",
    "print(sent.head())\n"
   ]
  },
  {
   "cell_type": "markdown",
   "id": "d38eec90",
   "metadata": {},
   "source": [
    "Processing of the Daily Summary of a Trader"
   ]
  },
  {
   "cell_type": "code",
   "execution_count": 5,
   "id": "564a854d",
   "metadata": {},
   "outputs": [],
   "source": [
    "import pandas as pd\n",
    "\n",
    "# Load data \n",
    "trades = pd.read_csv(\"historical_data.csv\")\n",
    "\n",
    "# Parse datetime \n",
    "# Convert IST timestamp\n",
    "trades['Timestamp IST'] = pd.to_datetime(trades['Timestamp IST'], format=\"%d-%m-%Y %H:%M\", errors='coerce')\n",
    "# Convert UTC/numeric timestamp if needed\n",
    "trades['Timestamp'] = pd.to_datetime(trades['Timestamp'], errors='coerce', unit='s')  \n",
    "\n",
    "# Extract just the trading date (for sentiment join later)\n",
    "trades['trade_date'] = trades['Timestamp IST'].dt.date\n",
    "\n",
    "num_cols = [\"Execution Price\", \"Size Tokens\", \"Size USD\", \"Closed PnL\", \"Fee\"]\n",
    "trades[num_cols] = trades[num_cols].apply(pd.to_numeric, errors='coerce')\n",
    "\n",
    "# Standardize text fields \n",
    "trades['Side'] = trades['Side'].str.upper().str.strip()\n",
    "trades['Direction'] = trades['Direction'].str.capitalize().str.strip()\n",
    "trades['Crossed'] = trades['Crossed'].astype(str).str.upper()  \n",
    "\n",
    "# Remove duplicates\n",
    "trades = trades.drop_duplicates(subset=['Trade ID'])\n",
    "\n",
    "#print(trades.info())\n",
    "#print(trades.head())\n"
   ]
  },
  {
   "cell_type": "markdown",
   "id": "2f19f472",
   "metadata": {},
   "source": [
    "Merging of both the datasets using 'date' and 'classification' attribute"
   ]
  },
  {
   "cell_type": "code",
   "execution_count": 6,
   "id": "18a7c078",
   "metadata": {},
   "outputs": [],
   "source": [
    "trades = trades.merge(\n",
    "    sent[['Date','classification']],\n",
    "    left_on='trade_date',\n",
    "    right_on='Date',\n",
    "    how='left'\n",
    ")\n",
    "\n",
    "trades.rename(columns={'classification':'sentiment'}, inplace=True)"
   ]
  },
  {
   "cell_type": "code",
   "execution_count": 7,
   "id": "bfc7050e",
   "metadata": {},
   "outputs": [
    {
     "name": "stdout",
     "output_type": "stream",
     "text": [
      "                                      Account  Coin  Execution Price  \\\n",
      "0  0xae5eacaf9c6b9111fd53034a602c192a04e082ed  @107           7.9769   \n",
      "1  0xae5eacaf9c6b9111fd53034a602c192a04e082ed  @107           7.9800   \n",
      "2  0xae5eacaf9c6b9111fd53034a602c192a04e082ed  @107           7.9855   \n",
      "3  0xae5eacaf9c6b9111fd53034a602c192a04e082ed  @107           7.9874   \n",
      "4  0xae5eacaf9c6b9111fd53034a602c192a04e082ed  @107           7.9894   \n",
      "\n",
      "   Size Tokens  Size USD Side       Timestamp IST  Start Position Direction  \\\n",
      "0       986.87   7872.16  BUY 2024-12-02 22:50:00        0.000000       Buy   \n",
      "1        16.00    127.68  BUY 2024-12-02 22:50:00      986.524596       Buy   \n",
      "2       144.09   1150.63  BUY 2024-12-02 22:50:00     1002.518996       Buy   \n",
      "3       142.98   1142.04  BUY 2024-12-02 22:50:00     1146.558564       Buy   \n",
      "4         8.73     69.75  BUY 2024-12-02 22:50:00     1289.488521       Buy   \n",
      "\n",
      "   Closed PnL                                   Transaction Hash     Order ID  \\\n",
      "0         0.0  0xec09451986a1874e3a980418412fcd0201f500c95bac...  52017706630   \n",
      "1         0.0  0xec09451986a1874e3a980418412fcd0201f500c95bac...  52017706630   \n",
      "2         0.0  0xec09451986a1874e3a980418412fcd0201f500c95bac...  52017706630   \n",
      "3         0.0  0xec09451986a1874e3a980418412fcd0201f500c95bac...  52017706630   \n",
      "4         0.0  0xec09451986a1874e3a980418412fcd0201f500c95bac...  52017706630   \n",
      "\n",
      "  Crossed       Fee      Trade ID Timestamp  trade_date        Date  \\\n",
      "0    TRUE  0.345404  8.950000e+14       NaT  2024-12-02  2024-12-02   \n",
      "1    TRUE  0.005600  4.430000e+14       NaT  2024-12-02  2024-12-02   \n",
      "2    TRUE  0.050431  6.600000e+14       NaT  2024-12-02  2024-12-02   \n",
      "3    TRUE  0.050043  1.080000e+15       NaT  2024-12-02  2024-12-02   \n",
      "4    TRUE  0.003055  1.050000e+15       NaT  2024-12-02  2024-12-02   \n",
      "\n",
      "       sentiment  \n",
      "0  Extreme Greed  \n",
      "1  Extreme Greed  \n",
      "2  Extreme Greed  \n",
      "3  Extreme Greed  \n",
      "4  Extreme Greed  \n"
     ]
    }
   ],
   "source": [
    "print(trades.head())"
   ]
  },
  {
   "cell_type": "markdown",
   "id": "e4515387",
   "metadata": {},
   "source": [
    "Converted Data into a Daily Performance Summary"
   ]
  },
  {
   "cell_type": "code",
   "execution_count": 8,
   "id": "64a509af",
   "metadata": {},
   "outputs": [
    {
     "name": "stdout",
     "output_type": "stream",
     "text": [
      "                                      Account  trade_date      sentiment  \\\n",
      "0  0x083384f897ee0f19899168e3b1bec365f52a9012  2024-11-11  Extreme Greed   \n",
      "1  0x083384f897ee0f19899168e3b1bec365f52a9012  2024-11-17  Extreme Greed   \n",
      "2  0x083384f897ee0f19899168e3b1bec365f52a9012  2024-11-18  Extreme Greed   \n",
      "3  0x083384f897ee0f19899168e3b1bec365f52a9012  2024-11-26  Extreme Greed   \n",
      "4  0x083384f897ee0f19899168e3b1bec365f52a9012  2024-11-28  Extreme Greed   \n",
      "\n",
      "     daily_pnl  trades  win_rate  avg_leverage  avg_size_tokens  \n",
      "0     0.000000       5       0.0   8330.474000         2.600540  \n",
      "1     0.000000       1       0.0   2433.600000        10.400000  \n",
      "2     0.000000       3       0.0   3534.226667         1.116800  \n",
      "3     0.000000       1       0.0  10145.140000        43.450000  \n",
      "4 -2285.253386       3       0.0  13146.913333        36.761267  \n"
     ]
    }
   ],
   "source": [
    "agg = trades.groupby(['Account', 'trade_date', 'sentiment']).agg(\n",
    "    daily_pnl = ('Closed PnL', 'sum'), #profit and loss by a trader on a day\n",
    "    trades = ('Trade ID', 'count'), #number of trades by a trader on a day\n",
    "    win_rate = ('Closed PnL', lambda x: (x>0).mean()), #percentage of trades that were profitable\n",
    "    avg_leverage = ('Size USD', 'mean'),  #average size of trades in USD\n",
    "    avg_size_tokens = ('Size Tokens', 'mean') #average size of trades in tokens\n",
    ").reset_index()\n",
    "\n",
    "print(agg.head())"
   ]
  },
  {
   "cell_type": "markdown",
   "id": "601488bd",
   "metadata": {},
   "source": [
    "Graph Representation of each trader's PnL and sentiment on a day"
   ]
  },
  {
   "cell_type": "code",
   "execution_count": 9,
   "id": "2fd6d085",
   "metadata": {},
   "outputs": [
    {
     "data": {
      "image/png": "[encoded data removed]",
      "text/plain": [
       "<Figure size 640x480 with 1 Axes>"
      ]
     },
     "metadata": {},
     "output_type": "display_data"
    }
   ],
   "source": [
    "import matplotlib.pyplot as plt\n",
    "\n",
    "avg_pnl = agg.groupby('sentiment')['daily_pnl'].mean()\n",
    "avg_pnl.plot(kind='bar', title=\"Average Trader PnL by Market Sentiment\")\n",
    "plt.ylabel(\"Avg Daily PnL\")\n",
    "plt.show()\n"
   ]
  },
  {
   "cell_type": "markdown",
   "id": "2e330e67",
   "metadata": {},
   "source": [
    "Representation of what does Profit & Loss look like on a daily basis for each trader with different sentiment"
   ]
  },
  {
   "cell_type": "code",
   "execution_count": 10,
   "id": "de5d69eb",
   "metadata": {},
   "outputs": [
    {
     "data": {
      "image/png": "[encoded data removed]",
      "text/plain": [
       "<Figure size 640x480 with 1 Axes>"
      ]
     },
     "metadata": {},
     "output_type": "display_data"
    }
   ],
   "source": [
    "agg.boxplot(column='daily_pnl', by='sentiment')\n",
    "plt.ylabel(\"Daily PnL\")\n",
    "plt.title(\"PnL distribution by Market Sentiment\")\n",
    "plt.suptitle(\"\")\n",
    "plt.show()\n"
   ]
  },
  {
   "cell_type": "markdown",
   "id": "1e259ad6",
   "metadata": {},
   "source": [
    "How different profit is on Fear Days and Greed Days"
   ]
  },
  {
   "cell_type": "code",
   "execution_count": 11,
   "id": "103d7da1",
   "metadata": {},
   "outputs": [
    {
     "name": "stdout",
     "output_type": "stream",
     "text": [
      "T-stat: 1.6718294640638263, P-value: 0.09552719284093547\n",
      "No significant difference in PnL between Fear and Greed days\n",
      "Higher PnL on Fear days\n"
     ]
    }
   ],
   "source": [
    "from scipy.stats import ttest_ind\n",
    "\n",
    "fear = agg.loc[agg.sentiment==\"Fear\", \"daily_pnl\"]\n",
    "greed = agg.loc[agg.sentiment==\"Greed\", \"daily_pnl\"]\n",
    "\n",
    "t_stat, p_value = ttest_ind(fear, greed, equal_var=False, nan_policy='omit')\n",
    "print(f\"T-stat: {t_stat}, P-value: {p_value}\")\n",
    "\n",
    "if p_value < 0.05:\n",
    "    print(\"Significant difference in PnL between Fear and Greed days\")\n",
    "else:\n",
    "    print(\"No significant difference in PnL between Fear and Greed days\")\n",
    "\n",
    "if t_stat > 0:\n",
    "    print(\"Higher PnL on Fear days\")\n",
    "else:\n",
    "    print(\"Higher PnL on Greed days\")\n"
   ]
  },
  {
   "cell_type": "code",
   "execution_count": 12,
   "id": "0fb4c6ef",
   "metadata": {},
   "outputs": [
    {
     "name": "stdout",
     "output_type": "stream",
     "text": [
      "Total PnL (all days): 307063.955415\n",
      "Total PnL (no Fear days): 103270.674775\n"
     ]
    }
   ],
   "source": [
    "total_pnl = agg['daily_pnl'].sum()\n",
    "pnl_no_fear = agg.loc[agg.sentiment!=\"Fear\", 'daily_pnl'].sum() #Greed + Neutral Days\n",
    "\n",
    "print(\"Total PnL (all days):\", total_pnl)\n",
    "print(\"Total PnL (no Fear days):\", pnl_no_fear)\n"
   ]
  },
  {
   "cell_type": "markdown",
   "id": "ada3d099",
   "metadata": {},
   "source": [
    "Cleaned Data"
   ]
  },
  {
   "cell_type": "code",
   "execution_count": 13,
   "id": "badcfb4a",
   "metadata": {},
   "outputs": [],
   "source": [
    "trades.to_csv(\"cleaned_trades_with_sentiment.csv\", index=False)\n",
    "agg.to_csv(\"trader_daily_summary.csv\", index=False)\n"
   ]
  }
 ],
 "metadata": {
  "kernelspec": {
   "display_name": "myenv",
   "language": "python",
   "name": "python3"
  },
  "language_info": {
   "codemirror_mode": {
    "name": "ipython",
    "version": 3
   },
   "file_extension": ".py",
   "mimetype": "text/x-python",
   "name": "python",
   "nbconvert_exporter": "python",
   "pygments_lexer": "ipython3",
   "version": "3.12.5"
  }
 },
 "nbformat": 4,
 "nbformat_minor": 5
}
